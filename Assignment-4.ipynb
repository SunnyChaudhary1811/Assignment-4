{
 "cells": [
  {
   "cell_type": "markdown",
   "id": "a50826e4",
   "metadata": {},
   "source": [
    "# ASSIGNMENT-4"
   ]
  },
  {
   "cell_type": "markdown",
   "id": "aa5543a7",
   "metadata": {},
   "source": [
    "Question-1:"
   ]
  },
  {
   "cell_type": "markdown",
   "id": "5fa3352e",
   "metadata": {},
   "source": [
    "'[]'used to denote an empty list"
   ]
  },
  {
   "cell_type": "markdown",
   "id": "088848b9",
   "metadata": {},
   "source": [
    "Question-2:"
   ]
  },
  {
   "cell_type": "code",
   "execution_count": 1,
   "id": "e10dbed1",
   "metadata": {},
   "outputs": [],
   "source": [
    "spam = [2, 4, 6, 8, 10]"
   ]
  },
  {
   "cell_type": "code",
   "execution_count": 2,
   "id": "7e860bcc",
   "metadata": {},
   "outputs": [],
   "source": [
    "spam.insert(2,\"hello\")"
   ]
  },
  {
   "cell_type": "code",
   "execution_count": 3,
   "id": "4cd197a7",
   "metadata": {},
   "outputs": [
    {
     "name": "stdout",
     "output_type": "stream",
     "text": [
      "[2, 4, 'hello', 6, 8, 10]\n"
     ]
    }
   ],
   "source": [
    "print(spam)"
   ]
  },
  {
   "cell_type": "markdown",
   "id": "4cfc3ba7",
   "metadata": {},
   "source": [
    "spam = ['a','b','c','d']"
   ]
  },
  {
   "cell_type": "markdown",
   "id": "9ff3cc6d",
   "metadata": {},
   "source": [
    "Question-3:"
   ]
  },
  {
   "cell_type": "markdown",
   "id": "dfad8c37",
   "metadata": {},
   "source": [
    "spam[int(int('3' * 2) / 11)]\n",
    "\n",
    "output = 'd'"
   ]
  },
  {
   "cell_type": "markdown",
   "id": "9fd9b67a",
   "metadata": {},
   "source": [
    "Question-4:"
   ]
  },
  {
   "cell_type": "markdown",
   "id": "716a3b5c",
   "metadata": {},
   "source": [
    "spam[-1]\n",
    "\n",
    "output = 'd'"
   ]
  },
  {
   "cell_type": "markdown",
   "id": "0a63d23b",
   "metadata": {},
   "source": [
    "Question-5:"
   ]
  },
  {
   "cell_type": "markdown",
   "id": "f65601f7",
   "metadata": {},
   "source": [
    "spam[:2]\n",
    "\n",
    "output = ['a', 'b']"
   ]
  },
  {
   "cell_type": "markdown",
   "id": "964c9cf5",
   "metadata": {},
   "source": [
    "bacon = [3.14, 'cat', 11, 'cat', True]"
   ]
  },
  {
   "cell_type": "markdown",
   "id": "be3665b0",
   "metadata": {},
   "source": [
    "Question-6:"
   ]
  },
  {
   "cell_type": "markdown",
   "id": "4d820baa",
   "metadata": {},
   "source": [
    "1"
   ]
  },
  {
   "cell_type": "markdown",
   "id": "7490da8d",
   "metadata": {},
   "source": [
    "Question-7:"
   ]
  },
  {
   "cell_type": "markdown",
   "id": "0b5b72b7",
   "metadata": {},
   "source": [
    "[3.14, 'cat', 11, 'cat', True, 99]"
   ]
  },
  {
   "cell_type": "markdown",
   "id": "bced8d4e",
   "metadata": {},
   "source": [
    "Question-8:"
   ]
  },
  {
   "cell_type": "markdown",
   "id": "c426de6e",
   "metadata": {},
   "source": [
    "[3.14, 11, 'cat', True]"
   ]
  },
  {
   "cell_type": "markdown",
   "id": "9ad00516",
   "metadata": {},
   "source": [
    "Question-9:"
   ]
  },
  {
   "cell_type": "markdown",
   "id": "92cbae47",
   "metadata": {},
   "source": [
    "List concatination operator = +\n",
    "\n",
    "List replication operator = *"
   ]
  },
  {
   "cell_type": "markdown",
   "id": "25ae8ee6",
   "metadata": {},
   "source": [
    "Question-10:"
   ]
  },
  {
   "cell_type": "markdown",
   "id": "a1a753ce",
   "metadata": {},
   "source": [
    "The append() method adds an element to the end of a list, while the insert() method allows you to specify the index where the element should be inserted in the list."
   ]
  },
  {
   "cell_type": "markdown",
   "id": "0f108bdd",
   "metadata": {},
   "source": [
    "Question-11:"
   ]
  },
  {
   "cell_type": "markdown",
   "id": "74b2bdac",
   "metadata": {},
   "source": [
    "\n",
    "The two methods for removing items from a list in Python are remove() and pop()."
   ]
  },
  {
   "cell_type": "markdown",
   "id": "f2d8382e",
   "metadata": {},
   "source": [
    "Question-12:"
   ]
  },
  {
   "cell_type": "markdown",
   "id": "d095b0fd",
   "metadata": {},
   "source": [
    "Lists and strings are similar in that they both support indexing, slicing, iteration, and have a length. However, lists are mutable and can store elements of different types, while strings are immutable and specifically store sequences of characters."
   ]
  },
  {
   "cell_type": "markdown",
   "id": "69cee6e5",
   "metadata": {},
   "source": [
    "Question-13:"
   ]
  },
  {
   "cell_type": "markdown",
   "id": "fcdb7f6e",
   "metadata": {},
   "source": [
    "Tuples are immutable and defined using parentheses, while lists are mutable and defined using square brackets. Tuples are used for fixed data collections, while lists are used for mutable sequences. Tuples are generally more memory-efficient, while lists allow for easier modification of elements."
   ]
  },
  {
   "cell_type": "markdown",
   "id": "0ad42bc9",
   "metadata": {},
   "source": [
    "Question-14:"
   ]
  },
  {
   "cell_type": "markdown",
   "id": "695b6bf4",
   "metadata": {},
   "source": [
    "my_tuple = (42,)\n"
   ]
  },
  {
   "cell_type": "markdown",
   "id": "fb5086e1",
   "metadata": {},
   "source": [
    "Question-15:"
   ]
  },
  {
   "cell_type": "code",
   "execution_count": 4,
   "id": "ad96ac12",
   "metadata": {},
   "outputs": [
    {
     "name": "stdout",
     "output_type": "stream",
     "text": [
      "(1, 2, 3)\n"
     ]
    }
   ],
   "source": [
    "my_list = [1, 2, 3]\n",
    "my_tuple = tuple(my_list)\n",
    "print(my_tuple)\n"
   ]
  },
  {
   "cell_type": "code",
   "execution_count": 5,
   "id": "14b8cb0a",
   "metadata": {},
   "outputs": [
    {
     "name": "stdout",
     "output_type": "stream",
     "text": [
      "[1, 2, 3]\n"
     ]
    }
   ],
   "source": [
    "my_tuple = (1, 2, 3)\n",
    "my_list = list(my_tuple)\n",
    "print(my_list)\n"
   ]
  },
  {
   "cell_type": "markdown",
   "id": "03d4bb32",
   "metadata": {},
   "source": [
    "Question-16:"
   ]
  },
  {
   "cell_type": "markdown",
   "id": "e8a8827e",
   "metadata": {},
   "source": [
    "Variables that \"contain\" list values in Python store references to the list objects, rather than the lists themselves."
   ]
  },
  {
   "cell_type": "markdown",
   "id": "091d9ecc",
   "metadata": {},
   "source": [
    "Question-17:"
   ]
  },
  {
   "cell_type": "markdown",
   "id": "464caa1b",
   "metadata": {},
   "source": [
    "copy.copy() creates a shallow copy, while copy.deepcopy() creates a deep copy. Shallow copy copies references, while deep copy creates completely independent copies."
   ]
  },
  {
   "cell_type": "code",
   "execution_count": null,
   "id": "ace3c2ec",
   "metadata": {},
   "outputs": [],
   "source": []
  }
 ],
 "metadata": {
  "kernelspec": {
   "display_name": "Python 3 (ipykernel)",
   "language": "python",
   "name": "python3"
  },
  "language_info": {
   "codemirror_mode": {
    "name": "ipython",
    "version": 3
   },
   "file_extension": ".py",
   "mimetype": "text/x-python",
   "name": "python",
   "nbconvert_exporter": "python",
   "pygments_lexer": "ipython3",
   "version": "3.9.13"
  }
 },
 "nbformat": 4,
 "nbformat_minor": 5
}
